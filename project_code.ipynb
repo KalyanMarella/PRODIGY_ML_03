{
 "cells": [
  {
   "cell_type": "code",
   "execution_count": 1,
   "metadata": {},
   "outputs": [],
   "source": [
    "import pandas as pd\n",
    "import numpy as np\n",
    "import cv2\n",
    "import os"
   ]
  },
  {
   "cell_type": "code",
   "execution_count": 3,
   "metadata": {},
   "outputs": [],
   "source": [
    "labels=[i[:3] for i in os.listdir(\"train\")]"
   ]
  },
  {
   "cell_type": "code",
   "execution_count": 4,
   "metadata": {},
   "outputs": [],
   "source": [
    "def load_images(folder_path):\n",
    "    images=[]\n",
    "    for filename in os.listdir(folder_path):\n",
    "        img=cv2.imread(os.path.join(folder_path,filename))\n",
    "        if img is not None:\n",
    "            image=cv2.resize(img,(64,64))\n",
    "            images.append(image)\n",
    "    return images"
   ]
  },
  {
   "cell_type": "code",
   "execution_count": 5,
   "metadata": {},
   "outputs": [],
   "source": [
    "images=load_images(\"train\")"
   ]
  },
  {
   "cell_type": "code",
   "execution_count": 6,
   "metadata": {},
   "outputs": [],
   "source": [
    "from skimage.feature import hog\n",
    "def image_features(images):\n",
    "    features=[]\n",
    "    for image in images:\n",
    "        gray_image=cv2.cvtColor(image,cv2.COLOR_BGR2GRAY)\n",
    "        hog_features=hog(gray_image,block_norm='L2-Hys',pixels_per_cell=(8,8),cells_per_block=(2,2))\n",
    "        features.append(hog_features)\n",
    "    return np.array(features)\n",
    "hog_features=image_features(images)"
   ]
  },
  {
   "cell_type": "code",
   "execution_count": 7,
   "metadata": {},
   "outputs": [],
   "source": [
    "df=pd.DataFrame(hog_features)\n",
    "df['target']=labels"
   ]
  },
  {
   "cell_type": "code",
   "execution_count": 8,
   "metadata": {},
   "outputs": [],
   "source": [
    "from sklearn.preprocessing import LabelEncoder\n",
    "encoder=LabelEncoder()\n",
    "df['target']=encoder.fit_transform(df['target'])"
   ]
  },
  {
   "cell_type": "code",
   "execution_count": 9,
   "metadata": {},
   "outputs": [
    {
     "data": {
      "text/html": [
       "<div>\n",
       "<style scoped>\n",
       "    .dataframe tbody tr th:only-of-type {\n",
       "        vertical-align: middle;\n",
       "    }\n",
       "\n",
       "    .dataframe tbody tr th {\n",
       "        vertical-align: top;\n",
       "    }\n",
       "\n",
       "    .dataframe thead th {\n",
       "        text-align: right;\n",
       "    }\n",
       "</style>\n",
       "<table border=\"1\" class=\"dataframe\">\n",
       "  <thead>\n",
       "    <tr style=\"text-align: right;\">\n",
       "      <th></th>\n",
       "      <th>0</th>\n",
       "      <th>1</th>\n",
       "      <th>2</th>\n",
       "      <th>3</th>\n",
       "      <th>4</th>\n",
       "      <th>5</th>\n",
       "      <th>6</th>\n",
       "      <th>7</th>\n",
       "      <th>8</th>\n",
       "      <th>9</th>\n",
       "      <th>...</th>\n",
       "      <th>1755</th>\n",
       "      <th>1756</th>\n",
       "      <th>1757</th>\n",
       "      <th>1758</th>\n",
       "      <th>1759</th>\n",
       "      <th>1760</th>\n",
       "      <th>1761</th>\n",
       "      <th>1762</th>\n",
       "      <th>1763</th>\n",
       "      <th>target</th>\n",
       "    </tr>\n",
       "  </thead>\n",
       "  <tbody>\n",
       "    <tr>\n",
       "      <th>0</th>\n",
       "      <td>0.305868</td>\n",
       "      <td>0.064261</td>\n",
       "      <td>0.010817</td>\n",
       "      <td>0.000000</td>\n",
       "      <td>0.059005</td>\n",
       "      <td>0.141722</td>\n",
       "      <td>0.110887</td>\n",
       "      <td>0.169559</td>\n",
       "      <td>0.305868</td>\n",
       "      <td>0.305868</td>\n",
       "      <td>...</td>\n",
       "      <td>0.046604</td>\n",
       "      <td>0.022060</td>\n",
       "      <td>0.051672</td>\n",
       "      <td>0.116838</td>\n",
       "      <td>0.089043</td>\n",
       "      <td>0.098032</td>\n",
       "      <td>0.023665</td>\n",
       "      <td>0.035107</td>\n",
       "      <td>0.049882</td>\n",
       "      <td>0</td>\n",
       "    </tr>\n",
       "    <tr>\n",
       "      <th>1</th>\n",
       "      <td>0.269501</td>\n",
       "      <td>0.039625</td>\n",
       "      <td>0.037222</td>\n",
       "      <td>0.223956</td>\n",
       "      <td>0.154846</td>\n",
       "      <td>0.036283</td>\n",
       "      <td>0.049265</td>\n",
       "      <td>0.022506</td>\n",
       "      <td>0.075312</td>\n",
       "      <td>0.265965</td>\n",
       "      <td>...</td>\n",
       "      <td>0.236933</td>\n",
       "      <td>0.190674</td>\n",
       "      <td>0.178775</td>\n",
       "      <td>0.236933</td>\n",
       "      <td>0.188337</td>\n",
       "      <td>0.062029</td>\n",
       "      <td>0.035534</td>\n",
       "      <td>0.082725</td>\n",
       "      <td>0.090604</td>\n",
       "      <td>0</td>\n",
       "    </tr>\n",
       "    <tr>\n",
       "      <th>2</th>\n",
       "      <td>0.075582</td>\n",
       "      <td>0.063367</td>\n",
       "      <td>0.133397</td>\n",
       "      <td>0.230637</td>\n",
       "      <td>0.305685</td>\n",
       "      <td>0.137356</td>\n",
       "      <td>0.028371</td>\n",
       "      <td>0.025553</td>\n",
       "      <td>0.024630</td>\n",
       "      <td>0.032594</td>\n",
       "      <td>...</td>\n",
       "      <td>0.265868</td>\n",
       "      <td>0.122746</td>\n",
       "      <td>0.128171</td>\n",
       "      <td>0.117027</td>\n",
       "      <td>0.084787</td>\n",
       "      <td>0.265868</td>\n",
       "      <td>0.139590</td>\n",
       "      <td>0.143814</td>\n",
       "      <td>0.157300</td>\n",
       "      <td>0</td>\n",
       "    </tr>\n",
       "    <tr>\n",
       "      <th>3</th>\n",
       "      <td>0.122261</td>\n",
       "      <td>0.011962</td>\n",
       "      <td>0.037389</td>\n",
       "      <td>0.072189</td>\n",
       "      <td>0.070585</td>\n",
       "      <td>0.041724</td>\n",
       "      <td>0.074590</td>\n",
       "      <td>0.040957</td>\n",
       "      <td>0.025248</td>\n",
       "      <td>0.145032</td>\n",
       "      <td>...</td>\n",
       "      <td>0.309203</td>\n",
       "      <td>0.038008</td>\n",
       "      <td>0.042686</td>\n",
       "      <td>0.000000</td>\n",
       "      <td>0.003606</td>\n",
       "      <td>0.009176</td>\n",
       "      <td>0.000000</td>\n",
       "      <td>0.157363</td>\n",
       "      <td>0.309203</td>\n",
       "      <td>0</td>\n",
       "    </tr>\n",
       "    <tr>\n",
       "      <th>4</th>\n",
       "      <td>0.188206</td>\n",
       "      <td>0.056430</td>\n",
       "      <td>0.159058</td>\n",
       "      <td>0.215132</td>\n",
       "      <td>0.214091</td>\n",
       "      <td>0.242554</td>\n",
       "      <td>0.242554</td>\n",
       "      <td>0.119614</td>\n",
       "      <td>0.048317</td>\n",
       "      <td>0.242554</td>\n",
       "      <td>...</td>\n",
       "      <td>0.205116</td>\n",
       "      <td>0.101634</td>\n",
       "      <td>0.189592</td>\n",
       "      <td>0.070024</td>\n",
       "      <td>0.188827</td>\n",
       "      <td>0.063668</td>\n",
       "      <td>0.086440</td>\n",
       "      <td>0.121408</td>\n",
       "      <td>0.090100</td>\n",
       "      <td>0</td>\n",
       "    </tr>\n",
       "  </tbody>\n",
       "</table>\n",
       "<p>5 rows × 1765 columns</p>\n",
       "</div>"
      ],
      "text/plain": [
       "          0         1         2         3         4         5         6  \\\n",
       "0  0.305868  0.064261  0.010817  0.000000  0.059005  0.141722  0.110887   \n",
       "1  0.269501  0.039625  0.037222  0.223956  0.154846  0.036283  0.049265   \n",
       "2  0.075582  0.063367  0.133397  0.230637  0.305685  0.137356  0.028371   \n",
       "3  0.122261  0.011962  0.037389  0.072189  0.070585  0.041724  0.074590   \n",
       "4  0.188206  0.056430  0.159058  0.215132  0.214091  0.242554  0.242554   \n",
       "\n",
       "          7         8         9  ...      1755      1756      1757      1758  \\\n",
       "0  0.169559  0.305868  0.305868  ...  0.046604  0.022060  0.051672  0.116838   \n",
       "1  0.022506  0.075312  0.265965  ...  0.236933  0.190674  0.178775  0.236933   \n",
       "2  0.025553  0.024630  0.032594  ...  0.265868  0.122746  0.128171  0.117027   \n",
       "3  0.040957  0.025248  0.145032  ...  0.309203  0.038008  0.042686  0.000000   \n",
       "4  0.119614  0.048317  0.242554  ...  0.205116  0.101634  0.189592  0.070024   \n",
       "\n",
       "       1759      1760      1761      1762      1763  target  \n",
       "0  0.089043  0.098032  0.023665  0.035107  0.049882       0  \n",
       "1  0.188337  0.062029  0.035534  0.082725  0.090604       0  \n",
       "2  0.084787  0.265868  0.139590  0.143814  0.157300       0  \n",
       "3  0.003606  0.009176  0.000000  0.157363  0.309203       0  \n",
       "4  0.188827  0.063668  0.086440  0.121408  0.090100       0  \n",
       "\n",
       "[5 rows x 1765 columns]"
      ]
     },
     "execution_count": 9,
     "metadata": {},
     "output_type": "execute_result"
    }
   ],
   "source": [
    "df.head()"
   ]
  },
  {
   "cell_type": "code",
   "execution_count": 10,
   "metadata": {},
   "outputs": [],
   "source": [
    "from sklearn.model_selection import train_test_split\n",
    "x_train,x_test,y_train,y_test=train_test_split(df.drop('target',axis=1),df.target,stratify=df.target,random_state=43,test_size=0.3)"
   ]
  },
  {
   "cell_type": "code",
   "execution_count": 13,
   "metadata": {},
   "outputs": [],
   "source": [
    "from sklearn.svm import SVC\n",
    "model=SVC()\n",
    "model.fit(x_train,y_train)"
   ]
  },
  {
   "cell_type": "code",
   "execution_count": 12,
   "metadata": {},
   "outputs": [
    {
     "name": "stdout",
     "output_type": "stream",
     "text": [
      "              precision    recall  f1-score   support\n",
      "\n",
      "           0       0.77      0.78      0.77      3685\n",
      "           1       0.78      0.77      0.78      3815\n",
      "\n",
      "    accuracy                           0.77      7500\n",
      "   macro avg       0.77      0.77      0.77      7500\n",
      "weighted avg       0.77      0.77      0.77      7500\n",
      "\n"
     ]
    }
   ],
   "source": [
    "from sklearn.metrics import classification_report,confusion_matrix\n",
    "y_pred=model.predict(x_test)\n",
    "print(classification_report(y_pred,y_test))"
   ]
  }
 ],
 "metadata": {
  "kernelspec": {
   "display_name": "Python 3",
   "language": "python",
   "name": "python3"
  },
  "language_info": {
   "codemirror_mode": {
    "name": "ipython",
    "version": 3
   },
   "file_extension": ".py",
   "mimetype": "text/x-python",
   "name": "python",
   "nbconvert_exporter": "python",
   "pygments_lexer": "ipython3",
   "version": "3.12.2"
  }
 },
 "nbformat": 4,
 "nbformat_minor": 2
}
